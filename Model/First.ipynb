{
 "cells": [
  {
   "cell_type": "code",
   "execution_count": 9,
   "id": "1fbcb7fb",
   "metadata": {},
   "outputs": [
    {
     "name": "stdout",
     "output_type": "stream",
     "text": [
      "WARNING:tensorflow:6 out of the last 6 calls to <function Model.make_predict_function.<locals>.predict_function at 0x000002320203F640> triggered tf.function retracing. Tracing is expensive and the excessive number of tracings could be due to (1) creating @tf.function repeatedly in a loop, (2) passing tensors with different shapes, (3) passing Python objects instead of tensors. For (1), please define your @tf.function outside of the loop. For (2), @tf.function has reduce_retracing=True option that can avoid unnecessary retracing. For (3), please refer to https://www.tensorflow.org/guide/function#controlling_retracing and https://www.tensorflow.org/api_docs/python/tf/function for  more details.\n",
      "Prediction is:  face1\n"
     ]
    }
   ],
   "source": [
    "import numpy as np\n",
    "from keras.utils import load_img, img_to_array \n",
    "from keras.models import Sequential, model_from_json\n",
    "import pickle\n",
    "\n",
    "\n",
    "with open('ResultsMap.pkl', 'rb') as f:\n",
    "    ResultMap = pickle.load(f)\n",
    "\n",
    "json_file = open('classifier.json', 'r')\n",
    "loaded_model_json = json_file.read()\n",
    "json_file.close()\n",
    "loaded_model = model_from_json(loaded_model_json)\n",
    "loaded_model.load_weights(\"model.h5\")\n",
    "\n",
    "\n",
    "\n",
    "ImagePath='Face Images/Final Testing Images/mo/m1.jpg'\n",
    "\n",
    "# test_image = load_img('$PATH', target_size = (64, 64))\n",
    "# test_image = img_to_array(test_image)\n",
    "\n",
    "\n",
    "test_image=load_img(ImagePath,target_size=(64, 64))\n",
    "\n",
    "test_image=img_to_array(test_image)\n",
    "test_image=np.expand_dims(test_image,axis=0)\n",
    "\n",
    "result=loaded_model.predict(test_image,verbose=0)\n",
    "#print(training_set.class_indices)\n",
    "\n",
    "# print(result)\n",
    "print('Prediction is: ',ResultMap[np.argmax(result)])\n",
    "\n"
   ]
  }
 ],
 "metadata": {
  "kernelspec": {
   "display_name": "Python 3 (ipykernel)",
   "language": "python",
   "name": "python3"
  },
  "language_info": {
   "codemirror_mode": {
    "name": "ipython",
    "version": 3
   },
   "file_extension": ".py",
   "mimetype": "text/x-python",
   "name": "python",
   "nbconvert_exporter": "python",
   "pygments_lexer": "ipython3",
   "version": "3.10.11"
  }
 },
 "nbformat": 4,
 "nbformat_minor": 5
}
