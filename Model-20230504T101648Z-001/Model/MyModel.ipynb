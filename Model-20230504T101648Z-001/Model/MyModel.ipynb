{
 "cells": [
  {
   "cell_type": "code",
   "execution_count": null,
   "id": "e3ed1024",
   "metadata": {},
   "outputs": [],
   "source": [
    "class mymodel():\n",
    "    def __init__(self,s):\n",
    "        from tensorflow.keras.models import Sequential, model_from_json\n",
    "        from tensorflow.keras.preprocessing import image\n",
    "        import numpy as np\n",
    "        import pickle\n",
    "        import base64\n",
    "        from io import BytesIO\n",
    "        from PIL import Image\n",
    "        from keras.utils import load_img, img_to_array \n",
    "        \n",
    "        #Load Model\n",
    "        json_file = open('model.json', 'r')\n",
    "        loaded_model_json = json_file.read()\n",
    "        json_file.close()\n",
    "        loaded_model = model_from_json(loaded_model_json)\n",
    "        # load weights into new model\n",
    "        loaded_model.load_weights(\"model.h5\")\n",
    "        \n",
    "        with open('classes.pkl', 'rb') as f:\n",
    "            self.classes = pickle.load(f)\n",
    "            \n",
    "            \n",
    "        # convert from Base64 To image\n",
    "\n",
    "        image_code = base64.b64decode(s)\n",
    "        image_path = BytesIO(image_code)  \n",
    "        \n",
    "        img = image.load_img(image_path, target_size=(224,224,3))\n",
    "        x = image.img_to_array(img)\n",
    "        x = np.expand_dims(x, axis=0)\n",
    "        images = np.vstack([x])\n",
    "        self.pred = loaded_model.predict(images, batch_size=32)\n",
    "    \n",
    "    def prediction(self):\n",
    "        import numpy as np\n",
    "        return int(self.classes[np.argmax(self.pred)])\n"
   ]
  },
  {
   "cell_type": "code",
   "execution_count": null,
   "id": "3d01d1a6",
   "metadata": {},
   "outputs": [],
   "source": [
    "s = \"\"\n",
    "m = mymodel(s)\n",
    "m.prediction()"
   ]
  }
 ],
 "metadata": {
  "kernelspec": {
   "display_name": "Python 3 (ipykernel)",
   "language": "python",
   "name": "python3"
  },
  "language_info": {
   "codemirror_mode": {
    "name": "ipython",
    "version": 3
   },
   "file_extension": ".py",
   "mimetype": "text/x-python",
   "name": "python",
   "nbconvert_exporter": "python",
   "pygments_lexer": "ipython3",
   "version": "3.9.7"
  }
 },
 "nbformat": 4,
 "nbformat_minor": 5
}
